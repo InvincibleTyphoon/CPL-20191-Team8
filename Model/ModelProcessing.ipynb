{
 "cells": [
  {
   "cell_type": "markdown",
   "metadata": {},
   "source": [
    "## 0. Read Data & Split Train/Test Data Set"
   ]
  },
  {
   "cell_type": "code",
   "execution_count": 8,
   "metadata": {},
   "outputs": [],
   "source": [
    "import pandas as pd\n",
    "import numpy as np\n",
    "import matplotlib.pyplot as plt\n",
    "import seaborn as sns\n",
    "from sklearn import metrics\n",
    "from sklearn.model_selection import train_test_split, StratifiedShuffleSplit\n",
    "from sklearn.linear_model import LinearRegression"
   ]
  },
  {
   "cell_type": "code",
   "execution_count": 17,
   "metadata": {},
   "outputs": [],
   "source": [
    "_X = pd.read_csv(\"./data/scaled_X.csv\", index_col='Unnamed: 0')\n",
    "_Y = pd.read_csv(\"./data/Y.csv\", index_col='Unnamed: 0')"
   ]
  },
  {
   "cell_type": "code",
   "execution_count": 18,
   "metadata": {},
   "outputs": [],
   "source": [
    "_X_vals = _X.values\n",
    "_Y_vals = _Y.values"
   ]
  },
  {
   "cell_type": "code",
   "execution_count": 30,
   "metadata": {},
   "outputs": [
    {
     "data": {
      "text/plain": [
       "((252, 12), (63, 12), (252, 2), (63, 2))"
      ]
     },
     "execution_count": 30,
     "metadata": {},
     "output_type": "execute_result"
    }
   ],
   "source": [
    "sss = StratifiedShuffleSplit(test_size=0.2)\n",
    "\n",
    "for train_index, test_index in sss.split(_X_vals, _Y_vals):\n",
    "    x_train, x_test = _X_vals[train_index], _X_vals[test_index]\n",
    "    y_train, y_test = _Y_vals[train_index], _Y_vals[test_index]\n",
    "    break\n",
    "\n",
    "    \n",
    "'''\n",
    "sss = StratifiedShuffleSplit(n_splits=10)\n",
    "    for train_index, test_index in sss.split(data, labels):\n",
    "        x_train, x_test = data[train_index], data[test_index]\n",
    "        y_train, y_test = labels[train_index], labels[test_index]\n",
    "        clf.fit(x_train, y_train)\n",
    "        y_pred = clf.predict(x_test)\n",
    "        accuracy_scores.append(accuracy_score(y_test, y_pred))\n",
    "        precision_scores.append(precision_score(y_test, y_pred))\n",
    "        recall_scores.append(recall_score(y_test, y_pred))\n",
    "        f1_scores.append(f1_score(y_test, y_pred))\n",
    "\n",
    "\n",
    "X_tr, X_vld, y_tr, y_vld = train_test_split(_X_vals, _Y_vals, \n",
    "                                            test_size=0.2, \n",
    "                                            random_state=2019, \n",
    "                                            shuffle=True,\n",
    "                                            stratify=True)\n",
    "'''\n",
    "x_train.shape, x_test.shape, y_train.shape, y_test.shape"
   ]
  },
  {
   "cell_type": "markdown",
   "metadata": {},
   "source": [
    "## 1. Multivariate Linear Regression + Rounds"
   ]
  },
  {
   "cell_type": "code",
   "execution_count": null,
   "metadata": {},
   "outputs": [],
   "source": []
  }
 ],
 "metadata": {
  "kernelspec": {
   "display_name": "Python 3",
   "language": "python",
   "name": "python3"
  },
  "language_info": {
   "codemirror_mode": {
    "name": "ipython",
    "version": 3
   },
   "file_extension": ".py",
   "mimetype": "text/x-python",
   "name": "python",
   "nbconvert_exporter": "python",
   "pygments_lexer": "ipython3",
   "version": "3.6.8"
  }
 },
 "nbformat": 4,
 "nbformat_minor": 2
}

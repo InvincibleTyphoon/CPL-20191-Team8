{
 "cells": [
  {
   "cell_type": "markdown",
   "metadata": {},
   "source": [
    "## 1. Get data"
   ]
  },
  {
   "cell_type": "code",
   "execution_count": 1,
   "metadata": {},
   "outputs": [],
   "source": [
    "import DBConn as dbc\n",
    "import pandas as pd\n",
    "import numpy as np\n",
    "from pprint import pprint"
   ]
  },
  {
   "cell_type": "code",
   "execution_count": 2,
   "metadata": {},
   "outputs": [],
   "source": [
    "db = dbc.DBConn('config/silnaewichi-2c66f-firebase-adminsdk-t6ob2-a6dfec601d.json')\n",
    "key = 'it5'"
   ]
  },
  {
   "cell_type": "code",
   "execution_count": 3,
   "metadata": {},
   "outputs": [],
   "source": [
    "bbsid_list = []\n",
    "ssid_list = []\n",
    "\n",
    "def getFrame(data:dict, x:float, y:float):\n",
    "    global bbsid_list, ssid_list\n",
    "    dict_frame = {\n",
    "        'x': [x for _ in range(data['n'])],\n",
    "        'y': [y for _ in range(data['n'])],\n",
    "        'magnetic_x': [],\n",
    "        'magnetic_y': [],\n",
    "        'magnetic_z': []\n",
    "    }\n",
    "    \n",
    "    mag_tag = \"magnetic\"\n",
    "    wifi_tag = \"wifi\"\n",
    "    bssid_tag = \"BSSID\"\n",
    "    \n",
    "    for _, obj in data.items():\n",
    "        if _ == 'n':\n",
    "            continue\n",
    "        # magnetic\n",
    "        for dim, d in obj[mag_tag].items():\n",
    "            dict_frame[f\"{mag_tag}_{dim}\"].append(d)\n",
    "        # wifi list setting\n",
    "        for _, wifi in obj[wifi_tag].items():\n",
    "            if wifi['BSSID'] not in bbsid_list:\n",
    "                bbsid_list.append(wifi[bssid_tag])\n",
    "                ssid_list.append(wifi['SSID'])\n",
    "                \n",
    "    # wifi\n",
    "    for bbsid in bbsid_list:\n",
    "        dict_frame[bbsid] = []\n",
    "    for _, obj in data.items():\n",
    "        if _ == 'n':\n",
    "            continue\n",
    "        none_flag = {bb:False for bb in bbsid_list}\n",
    "        for _, wifi in obj[wifi_tag].items():\n",
    "            dict_frame[wifi[bssid_tag]].append(wifi['WifiLevel'])\n",
    "            none_flag[wifi[bssid_tag]] = True\n",
    "        for bb, right in none_flag.items():\n",
    "            if right is False:\n",
    "                dict_frame[bb].append(None)\n",
    "            \n",
    "    result_df = pd.DataFrame(data=dict_frame, dtype=np.float64)\n",
    "    return result_df\n"
   ]
  },
  {
   "cell_type": "markdown",
   "metadata": {},
   "source": [
    "* x: 0 ~ 12\n",
    "* y:-8 ~ 8\n",
    "* x break points : 0, 10, 12\n",
    "* y break points : 0, 3, 8"
   ]
  },
  {
   "cell_type": "code",
   "execution_count": 4,
   "metadata": {},
   "outputs": [
    {
     "name": "stdout",
     "output_type": "stream",
     "text": [
      "CPU times: user 16.3 s, sys: 2.98 s, total: 19.2 s\n",
      "Wall time: 4min 56s\n"
     ]
    }
   ],
   "source": [
    "%%time\n",
    "all_f = []\n",
    "\n",
    "for y in [0, 3, 8]:\n",
    "    for x in range(1, 10):\n",
    "        _d = db.getData(key, x, y)\n",
    "        _f = getFrame(_d, x, y)\n",
    "        all_f.append(_f)\n",
    "        \n",
    "for x in [0, 10]:\n",
    "    for y in range(0, 9):\n",
    "        _d = db.getData(key, x, y)\n",
    "        _f = getFrame(_d, x, y)\n",
    "        all_f.append(_f)\n",
    "        \n",
    "y = 0\n",
    "for x in [11, 12]:\n",
    "    _d = db.getData(key, x, y)\n",
    "    _f = getFrame(_d, x, y)\n",
    "    all_f.append(_f)\n",
    "    \n",
    "x = 12\n",
    "for y in range(-8, 0):\n",
    "    _d = db.getData(key, x, y)\n",
    "    _f = getFrame(_d, x, y)\n",
    "    all_f.append(_f)"
   ]
  },
  {
   "cell_type": "code",
   "execution_count": 5,
   "metadata": {},
   "outputs": [
    {
     "name": "stderr",
     "output_type": "stream",
     "text": [
      "/home/gwak/anaconda3/envs/cpl/lib/python3.6/site-packages/pandas/core/frame.py:6692: FutureWarning: Sorting because non-concatenation axis is not aligned. A future version\n",
      "of pandas will change to not sort by default.\n",
      "\n",
      "To accept the future behavior, pass 'sort=False'.\n",
      "\n",
      "To retain the current behavior and silence the warning, pass 'sort=True'.\n",
      "\n",
      "  sort=sort)\n"
     ]
    },
    {
     "data": {
      "text/plain": [
       "(315, 34)"
      ]
     },
     "execution_count": 5,
     "metadata": {},
     "output_type": "execute_result"
    }
   ],
   "source": [
    "dict_frame = {\n",
    "    'x': [],\n",
    "    'y': [],\n",
    "    'magnetic_x': [],\n",
    "    'magnetic_y': [],\n",
    "    'magnetic_z': []\n",
    "}\n",
    "for bss in bbsid_list:\n",
    "    dict_frame[bss] = []\n",
    "    \n",
    "result_df = pd.DataFrame(data=dict_frame)\n",
    "for _df in all_f:\n",
    "    result_df = result_df.append(_df, ignore_index=True)\n",
    "result_df.head()\n",
    "result_df.shape"
   ]
  },
  {
   "cell_type": "code",
   "execution_count": 6,
   "metadata": {},
   "outputs": [
    {
     "data": {
      "text/plain": [
       "08:d4:6a:e6:ff:39    float64\n",
       "28:c2:dd:70:6f:51    float64\n",
       "28:c2:dd:70:70:4b    float64\n",
       "28:c2:dd:70:70:4f    float64\n",
       "28:c2:dd:70:70:51    float64\n",
       "28:c2:dd:70:93:0d    float64\n",
       "68:ca:e4:46:c1:80    float64\n",
       "68:ca:e4:46:c1:81    float64\n",
       "68:ca:e4:47:4d:e0    float64\n",
       "68:ca:e4:47:4d:e1    float64\n",
       "68:ca:e4:47:4d:ee    float64\n",
       "68:ca:e4:47:4d:ef    float64\n",
       "68:ca:e4:47:4e:a0    float64\n",
       "68:ca:e4:47:4e:a1    float64\n",
       "68:ca:e4:47:51:80    float64\n",
       "68:ca:e4:47:51:81    float64\n",
       "68:ca:e4:47:51:8e    float64\n",
       "68:ca:e4:47:51:8f    float64\n",
       "68:ca:e4:47:54:21    float64\n",
       "68:ca:e4:47:6e:e0    float64\n",
       "68:ca:e4:48:9d:a0    float64\n",
       "68:ca:e4:48:9d:a1    float64\n",
       "68:ca:e4:48:9d:ae    float64\n",
       "68:ca:e4:48:9d:af    float64\n",
       "88:36:6c:08:80:8c    float64\n",
       "88:36:6c:08:80:8e    float64\n",
       "88:36:6c:a1:47:7a    float64\n",
       "88:36:6c:bb:10:06    float64\n",
       "90:9f:33:a8:6b:b4    float64\n",
       "magnetic_x           float64\n",
       "magnetic_y           float64\n",
       "magnetic_z           float64\n",
       "x                    float64\n",
       "y                    float64\n",
       "dtype: object"
      ]
     },
     "execution_count": 6,
     "metadata": {},
     "output_type": "execute_result"
    }
   ],
   "source": [
    "result_df.dtypes"
   ]
  },
  {
   "cell_type": "code",
   "execution_count": 7,
   "metadata": {},
   "outputs": [
    {
     "data": {
      "text/plain": [
       "08:d4:6a:e6:ff:39     18\n",
       "28:c2:dd:70:6f:51      0\n",
       "28:c2:dd:70:70:4b      0\n",
       "28:c2:dd:70:70:4f      0\n",
       "28:c2:dd:70:70:51      0\n",
       "28:c2:dd:70:93:0d     18\n",
       "68:ca:e4:46:c1:80    306\n",
       "68:ca:e4:46:c1:81    306\n",
       "68:ca:e4:47:4d:e0    228\n",
       "68:ca:e4:47:4d:e1    233\n",
       "68:ca:e4:47:4d:ee    212\n",
       "68:ca:e4:47:4d:ef    207\n",
       "68:ca:e4:47:4e:a0    313\n",
       "68:ca:e4:47:4e:a1    306\n",
       "68:ca:e4:47:51:80      0\n",
       "68:ca:e4:47:51:81      0\n",
       "68:ca:e4:47:51:8e     18\n",
       "68:ca:e4:47:51:8f     18\n",
       "68:ca:e4:47:54:21    292\n",
       "68:ca:e4:47:6e:e0    297\n",
       "68:ca:e4:48:9d:a0     75\n",
       "68:ca:e4:48:9d:a1     71\n",
       "68:ca:e4:48:9d:ae    189\n",
       "68:ca:e4:48:9d:af    172\n",
       "88:36:6c:08:80:8c    145\n",
       "88:36:6c:08:80:8e    141\n",
       "88:36:6c:a1:47:7a    254\n",
       "88:36:6c:bb:10:06     42\n",
       "90:9f:33:a8:6b:b4    279\n",
       "magnetic_x             0\n",
       "magnetic_y             0\n",
       "magnetic_z             0\n",
       "x                      0\n",
       "y                      0\n",
       "dtype: int64"
      ]
     },
     "execution_count": 7,
     "metadata": {},
     "output_type": "execute_result"
    }
   ],
   "source": [
    "result_df.isnull().sum()"
   ]
  },
  {
   "cell_type": "code",
   "execution_count": 8,
   "metadata": {},
   "outputs": [],
   "source": [
    "result_df.to_csv(\"./data/full_data.csv\")"
   ]
  },
  {
   "cell_type": "code",
   "execution_count": 13,
   "metadata": {},
   "outputs": [
    {
     "name": "stdout",
     "output_type": "stream",
     "text": [
      "{'08:d4:6a:e6:ff:39': 'Q8(2018)_7622',\n",
      " '28:c2:dd:70:6f:51': 'SCD-696013949W_FB',\n",
      " '28:c2:dd:70:70:4b': 'SCD-696013969W_54',\n",
      " '28:c2:dd:70:70:4f': 'SCD-696013899W_44',\n",
      " '28:c2:dd:70:70:51': 'SCD-696013929W_XN',\n",
      " '28:c2:dd:70:93:0d': 'SCD-696013979W_QS',\n",
      " '68:ca:e4:46:c1:80': 'knu-smart',\n",
      " '68:ca:e4:46:c1:81': 'eduroam',\n",
      " '68:ca:e4:47:4d:e0': 'knu-smart',\n",
      " '68:ca:e4:47:4d:e1': 'eduroam',\n",
      " '68:ca:e4:47:4d:ee': 'eduroam',\n",
      " '68:ca:e4:47:4d:ef': 'knu-smart',\n",
      " '68:ca:e4:47:4e:a0': 'knu-smart',\n",
      " '68:ca:e4:47:4e:a1': 'eduroam',\n",
      " '68:ca:e4:47:51:80': 'knu-smart',\n",
      " '68:ca:e4:47:51:81': 'eduroam',\n",
      " '68:ca:e4:47:51:8e': 'eduroam',\n",
      " '68:ca:e4:47:51:8f': 'knu-smart',\n",
      " '68:ca:e4:47:54:21': 'eduroam',\n",
      " '68:ca:e4:47:6e:e0': 'knu-smart',\n",
      " '68:ca:e4:48:9d:a0': 'knu-smart',\n",
      " '68:ca:e4:48:9d:a1': 'eduroam',\n",
      " '68:ca:e4:48:9d:ae': 'eduroam',\n",
      " '68:ca:e4:48:9d:af': 'knu-smart',\n",
      " '88:36:6c:08:80:8c': 'DBLAB_5G',\n",
      " '88:36:6c:08:80:8e': 'DBLAB',\n",
      " '88:36:6c:a1:47:7a': 'NetLab',\n",
      " '88:36:6c:bb:10:06': 'iptime',\n",
      " '90:9f:33:a8:6b:b4': 'iptime5G'}\n"
     ]
    }
   ],
   "source": [
    "bssid_ssid = dict()\n",
    "for i, (b, n) in enumerate(zip(bbsid_list, ssid_list)):\n",
    "    bssid_ssid[b] = n\n",
    "pprint(bssid_ssid)"
   ]
  },
  {
   "cell_type": "markdown",
   "metadata": {},
   "source": [
    "## 2. data cleansing & fillna"
   ]
  },
  {
   "cell_type": "code",
   "execution_count": 12,
   "metadata": {},
   "outputs": [
    {
     "data": {
      "text/plain": [
       "(315, 34)"
      ]
     },
     "execution_count": 12,
     "metadata": {},
     "output_type": "execute_result"
    }
   ],
   "source": [
    "cut_df = result_df.copy()\n",
    "cut_df.shape"
   ]
  },
  {
   "cell_type": "code",
   "execution_count": 25,
   "metadata": {},
   "outputs": [
    {
     "data": {
      "text/plain": [
       "08:d4:6a:e6:ff:39    False\n",
       "28:c2:dd:70:6f:51    False\n",
       "28:c2:dd:70:70:4b    False\n",
       "28:c2:dd:70:70:4f    False\n",
       "28:c2:dd:70:70:51    False\n",
       "28:c2:dd:70:93:0d    False\n",
       "68:ca:e4:46:c1:80     True\n",
       "68:ca:e4:46:c1:81     True\n",
       "68:ca:e4:47:4d:e0     True\n",
       "68:ca:e4:47:4d:e1     True\n",
       "68:ca:e4:47:4d:ee     True\n",
       "68:ca:e4:47:4d:ef     True\n",
       "68:ca:e4:47:4e:a0     True\n",
       "68:ca:e4:47:4e:a1     True\n",
       "68:ca:e4:47:51:80    False\n",
       "68:ca:e4:47:51:81    False\n",
       "68:ca:e4:47:51:8e    False\n",
       "68:ca:e4:47:51:8f    False\n",
       "68:ca:e4:47:54:21     True\n",
       "68:ca:e4:47:6e:e0     True\n",
       "68:ca:e4:48:9d:a0     True\n",
       "68:ca:e4:48:9d:a1     True\n",
       "68:ca:e4:48:9d:ae     True\n",
       "68:ca:e4:48:9d:af     True\n",
       "88:36:6c:08:80:8c     True\n",
       "88:36:6c:08:80:8e     True\n",
       "88:36:6c:a1:47:7a     True\n",
       "88:36:6c:bb:10:06     True\n",
       "90:9f:33:a8:6b:b4     True\n",
       "magnetic_x           False\n",
       "magnetic_y           False\n",
       "magnetic_z           False\n",
       "x                    False\n",
       "y                    False\n",
       "dtype: bool"
      ]
     },
     "execution_count": 25,
     "metadata": {},
     "output_type": "execute_result"
    }
   ],
   "source": [
    "result_df.isnull().sum() > 30"
   ]
  },
  {
   "cell_type": "code",
   "execution_count": 32,
   "metadata": {},
   "outputs": [
    {
     "name": "stdout",
     "output_type": "stream",
     "text": [
      "will dropped:\n",
      "knu-smart\n",
      "eduroam\n",
      "knu-smart\n",
      "eduroam\n",
      "eduroam\n",
      "knu-smart\n",
      "knu-smart\n",
      "eduroam\n",
      "eduroam\n",
      "knu-smart\n",
      "knu-smart\n",
      "eduroam\n",
      "eduroam\n",
      "knu-smart\n",
      "DBLAB_5G\n",
      "DBLAB\n",
      "NetLab\n",
      "iptime\n",
      "iptime5G\n",
      "Q8(2018)_7622\n"
     ]
    }
   ],
   "source": [
    "drop_list = [\n",
    "    '68:ca:e4:46:c1:80',\n",
    "    '68:ca:e4:46:c1:81',\n",
    "    '68:ca:e4:47:4d:e0',\n",
    "    '68:ca:e4:47:4d:e1',\n",
    "    '68:ca:e4:47:4d:ee',\n",
    "    '68:ca:e4:47:4d:ef',\n",
    "    '68:ca:e4:47:4e:a0',\n",
    "    '68:ca:e4:47:4e:a1',\n",
    "    '68:ca:e4:47:54:21',\n",
    "    '68:ca:e4:47:6e:e0',\n",
    "    '68:ca:e4:48:9d:a0',\n",
    "    '68:ca:e4:48:9d:a1',\n",
    "    '68:ca:e4:48:9d:ae',\n",
    "    '68:ca:e4:48:9d:af',\n",
    "    '88:36:6c:08:80:8c',\n",
    "    '88:36:6c:08:80:8e',\n",
    "    '88:36:6c:a1:47:7a',\n",
    "    '88:36:6c:bb:10:06',\n",
    "    '90:9f:33:a8:6b:b4',\n",
    "    '08:d4:6a:e6:ff:39' # Q8\n",
    "]\n",
    "print(\"will dropped:\")\n",
    "for dd in drop_list:\n",
    "    print(bssid_ssid[dd])"
   ]
  },
  {
   "cell_type": "code",
   "execution_count": 38,
   "metadata": {
    "scrolled": true
   },
   "outputs": [
    {
     "data": {
      "text/plain": [
       "((315, 14),\n",
       " Index(['28:c2:dd:70:6f:51', '28:c2:dd:70:70:4b', '28:c2:dd:70:70:4f',\n",
       "        '28:c2:dd:70:70:51', '28:c2:dd:70:93:0d', '68:ca:e4:47:51:80',\n",
       "        '68:ca:e4:47:51:81', '68:ca:e4:47:51:8e', '68:ca:e4:47:51:8f',\n",
       "        'magnetic_x', 'magnetic_y', 'magnetic_z', 'x', 'y'],\n",
       "       dtype='object'))"
      ]
     },
     "execution_count": 38,
     "metadata": {},
     "output_type": "execute_result"
    }
   ],
   "source": [
    "fin_df = cut_df.drop(drop_list, axis=1)\n",
    "fin_df.shape, fin_df.columns"
   ]
  },
  {
   "cell_type": "code",
   "execution_count": 35,
   "metadata": {},
   "outputs": [
    {
     "name": "stdout",
     "output_type": "stream",
     "text": [
      "survived wifi list\n",
      "28:c2:dd:70:6f:51: SCD-696013949W_FB\n",
      "68:ca:e4:47:51:80: knu-smart\n",
      "28:c2:dd:70:70:4b: SCD-696013969W_54\n",
      "68:ca:e4:47:51:8f: knu-smart\n",
      "28:c2:dd:70:70:51: SCD-696013929W_XN\n",
      "68:ca:e4:47:51:81: eduroam\n",
      "68:ca:e4:47:51:8e: eduroam\n",
      "28:c2:dd:70:70:4f: SCD-696013899W_44\n",
      "28:c2:dd:70:93:0d: SCD-696013979W_QS\n"
     ]
    }
   ],
   "source": [
    "print(\"survived wifi list\")\n",
    "for bb in (set(bbsid_list) - set(drop_list)):\n",
    "    print(f\"{bb}: {bssid_ssid[bb]}\")"
   ]
  },
  {
   "cell_type": "code",
   "execution_count": 40,
   "metadata": {},
   "outputs": [],
   "source": [
    "fin_df.fillna(-100.0, inplace=True)"
   ]
  },
  {
   "cell_type": "code",
   "execution_count": 43,
   "metadata": {},
   "outputs": [
    {
     "data": {
      "text/plain": [
       "28:c2:dd:70:6f:51    0\n",
       "28:c2:dd:70:70:4b    0\n",
       "28:c2:dd:70:70:4f    0\n",
       "28:c2:dd:70:70:51    0\n",
       "28:c2:dd:70:93:0d    0\n",
       "68:ca:e4:47:51:80    0\n",
       "68:ca:e4:47:51:81    0\n",
       "68:ca:e4:47:51:8e    0\n",
       "68:ca:e4:47:51:8f    0\n",
       "magnetic_x           0\n",
       "magnetic_y           0\n",
       "magnetic_z           0\n",
       "x                    0\n",
       "y                    0\n",
       "dtype: int64"
      ]
     },
     "execution_count": 43,
     "metadata": {},
     "output_type": "execute_result"
    }
   ],
   "source": [
    "fin_df.isnull().sum()"
   ]
  },
  {
   "cell_type": "code",
   "execution_count": 44,
   "metadata": {},
   "outputs": [],
   "source": [
    "fin_df.to_csv(\"./data/cut_off_data.csv\")"
   ]
  }
 ],
 "metadata": {
  "kernelspec": {
   "display_name": "Python 3",
   "language": "python",
   "name": "python3"
  },
  "language_info": {
   "codemirror_mode": {
    "name": "ipython",
    "version": 3
   },
   "file_extension": ".py",
   "mimetype": "text/x-python",
   "name": "python",
   "nbconvert_exporter": "python",
   "pygments_lexer": "ipython3",
   "version": "3.6.8"
  }
 },
 "nbformat": 4,
 "nbformat_minor": 2
}

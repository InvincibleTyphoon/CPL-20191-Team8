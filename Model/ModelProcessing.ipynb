{
 "cells": [
  {
   "cell_type": "markdown",
   "metadata": {},
   "source": [
    "## 0. Read Data & Split Train/Test Data Set"
   ]
  },
  {
   "cell_type": "code",
   "execution_count": 1,
   "metadata": {},
   "outputs": [],
   "source": [
    "import pandas as pd\n",
    "import numpy as np\n",
    "import matplotlib.pyplot as plt\n",
    "import seaborn as sns\n",
    "from sklearn import metrics\n",
    "from sklearn.model_selection import train_test_split, StratifiedShuffleSplit"
   ]
  },
  {
   "cell_type": "code",
   "execution_count": 2,
   "metadata": {},
   "outputs": [],
   "source": [
    "_X = pd.read_csv(\"./data/scaled_X.csv\", index_col='Unnamed: 0')\n",
    "_Y = pd.read_csv(\"./data/Y.csv\", index_col='Unnamed: 0')"
   ]
  },
  {
   "cell_type": "code",
   "execution_count": 3,
   "metadata": {},
   "outputs": [],
   "source": [
    "_X_vals = _X.values\n",
    "_Y_vals = _Y.values"
   ]
  },
  {
   "cell_type": "code",
   "execution_count": 6,
   "metadata": {},
   "outputs": [
    {
     "name": "stdout",
     "output_type": "stream",
     "text": [
      "(252, 12) (63, 12)\n",
      "(252, 12) (63, 12)\n",
      "(252, 12) (63, 12)\n",
      "(252, 12) (63, 12)\n",
      "(252, 12) (63, 12)\n"
     ]
    },
    {
     "data": {
      "text/plain": [
       "'\\nsss = StratifiedShuffleSplit(n_splits=10)\\n    for train_index, test_index in sss.split(data, labels):\\n        x_train, x_test = data[train_index], data[test_index]\\n        y_train, y_test = labels[train_index], labels[test_index]\\n        clf.fit(x_train, y_train)\\n        y_pred = clf.predict(x_test)\\n        accuracy_scores.append(accuracy_score(y_test, y_pred))\\n        precision_scores.append(precision_score(y_test, y_pred))\\n        recall_scores.append(recall_score(y_test, y_pred))\\n        f1_scores.append(f1_score(y_test, y_pred))\\n\\n\\nX_tr, X_vld, y_tr, y_vld = train_test_split(_X_vals, _Y_vals, \\n                                            test_size=0.2, \\n                                            random_state=2019, \\n                                            shuffle=True,\\n                                            stratify=True)\\n'"
      ]
     },
     "execution_count": 6,
     "metadata": {},
     "output_type": "execute_result"
    }
   ],
   "source": [
    "sss = StratifiedShuffleSplit(n_splits=5, test_size=0.2)\n",
    "\n",
    "for train_index, test_index in sss.split(_X_vals, _Y_vals):\n",
    "    x_train, x_test = _X_vals[train_index], _X_vals[test_index]\n",
    "    y_train, y_test = _Y_vals[train_index], _Y_vals[test_index]\n",
    "    print(x_train.shape, x_test.shape)\n",
    "    check_index.extend(test_index)\n",
    "    "
   ]
  },
  {
   "cell_type": "markdown",
   "metadata": {},
   "source": [
    "## 1. Multioutput Linear Regression"
   ]
  },
  {
   "cell_type": "code",
   "execution_count": 14,
   "metadata": {},
   "outputs": [],
   "source": [
    "from sklearn.linear_model import LinearRegression\n",
    "from sklearn.metrics import mean_squared_error"
   ]
  },
  {
   "cell_type": "code",
   "execution_count": 40,
   "metadata": {},
   "outputs": [],
   "source": [
    "def rmse(real, predict, scale=0.45):\n",
    "    return np.sqrt(mean_squared_error(real * scale, predict * scale))\n",
    "\n",
    "\n",
    "def model_5fold_test(model):\n",
    "    global _X_vals, _Y_vals\n",
    "    \n",
    "    sss = StratifiedShuffleSplit(n_splits=5, test_size=0.2)\n",
    "    mse_test_scores = []\n",
    "\n",
    "    for i, (train_index, test_index) in enumerate(sss.split(_X_vals, _Y_vals)):\n",
    "        x_train, x_test = _X_vals[train_index], _X_vals[test_index]\n",
    "        y_train, y_test = _Y_vals[train_index], _Y_vals[test_index]\n",
    "\n",
    "        # model = ModelClass()\n",
    "        model.__init__()\n",
    "        model.fit(x_train, y_train)\n",
    "        y_predict = model.predict(x_test)\n",
    "        test_score = rmse(y_test, y_predict)\n",
    "        mse_test_scores.append(test_score)\n",
    "\n",
    "        print(f\"#{i}:\")\n",
    "        print(\"  train rmse score:\", rmse(y_train, model.predict(x_train)))\n",
    "        print(\"  test  rmse score:\", test_score)\n",
    "        \n",
    "    return np.mean(mse_test_scores)"
   ]
  },
  {
   "cell_type": "code",
   "execution_count": 41,
   "metadata": {},
   "outputs": [
    {
     "name": "stdout",
     "output_type": "stream",
     "text": [
      "#0:\n",
      "  train rmse score: 1.0480068880040514\n",
      "  test  rmse score: 0.9915047421661651\n",
      "#1:\n",
      "  train rmse score: 1.0398747860846107\n",
      "  test  rmse score: 1.0237504490705418\n",
      "#2:\n",
      "  train rmse score: 1.0410358655999665\n",
      "  test  rmse score: 1.0199948939018737\n",
      "#3:\n",
      "  train rmse score: 1.0176112349570587\n",
      "  test  rmse score: 1.1218217871961447\n",
      "#4:\n",
      "  train rmse score: 1.0245276346208714\n",
      "  test  rmse score: 1.086300009144383\n",
      "\n",
      "The 5-fold average rmse of LinearRegression:\n",
      " 1.0486743762958217\n"
     ]
    }
   ],
   "source": [
    "print(\n",
    "    \"\\nThe 5-fold average rmse of LinearRegression:\\n\", \n",
    "    model_5fold_test(LinearRegression())\n",
    ")"
   ]
  },
  {
   "cell_type": "markdown",
   "metadata": {},
   "source": [
    "## 2. Multioutput K-nn Regression (n=[1, 3, 5])"
   ]
  },
  {
   "cell_type": "code",
   "execution_count": 28,
   "metadata": {},
   "outputs": [],
   "source": [
    "from sklearn.neighbors import KNeighborsRegressor"
   ]
  },
  {
   "cell_type": "code",
   "execution_count": 42,
   "metadata": {},
   "outputs": [
    {
     "name": "stdout",
     "output_type": "stream",
     "text": [
      "#0:\n",
      "  train rmse score: 0.2833032196882242\n",
      "  test  rmse score: 0.40081167647662164\n",
      "#1:\n",
      "  train rmse score: 0.2569463534892615\n",
      "  test  rmse score: 0.3701254613544672\n",
      "#2:\n",
      "  train rmse score: 0.26997023645474066\n",
      "  test  rmse score: 0.20028551049510723\n",
      "#3:\n",
      "  train rmse score: 0.28443553123435783\n",
      "  test  rmse score: 0.41359918485689223\n",
      "#4:\n",
      "  train rmse score: 0.26104186856298967\n",
      "  test  rmse score: 0.30636113143991167\n",
      "\n",
      "The 5-fold average rmse of KNeighborsRegressor(n=1):\n",
      " 0.3382365929246\n"
     ]
    }
   ],
   "source": [
    "print(\n",
    "    \"\\nThe 5-fold average rmse of KNeighborsRegressor(n=1):\\n\", \n",
    "    model_5fold_test(KNeighborsRegressor(n_neighbors=1))\n",
    ")"
   ]
  },
  {
   "cell_type": "code",
   "execution_count": 43,
   "metadata": {},
   "outputs": [
    {
     "name": "stdout",
     "output_type": "stream",
     "text": [
      "#0:\n",
      "  train rmse score: 0.2584431410249789\n",
      "  test  rmse score: 0.1808906536320453\n",
      "#1:\n",
      "  train rmse score: 0.26595179477276915\n",
      "  test  rmse score: 0.31930728594434366\n",
      "#2:\n",
      "  train rmse score: 0.27993621722507733\n",
      "  test  rmse score: 0.41328820798220567\n",
      "#3:\n",
      "  train rmse score: 0.2668265889513797\n",
      "  test  rmse score: 0.4279602785306132\n",
      "#4:\n",
      "  train rmse score: 0.2698511494456579\n",
      "  test  rmse score: 0.3787102171468689\n",
      "\n",
      "The 5-fold average rmse of KNeighborsRegressor(n=3):\n",
      " 0.3440313286472153\n"
     ]
    }
   ],
   "source": [
    "print(\n",
    "    \"\\nThe 5-fold average rmse of KNeighborsRegressor(n=3):\\n\", \n",
    "    model_5fold_test(KNeighborsRegressor(n_neighbors=3))\n",
    ")"
   ]
  },
  {
   "cell_type": "code",
   "execution_count": 44,
   "metadata": {},
   "outputs": [
    {
     "name": "stdout",
     "output_type": "stream",
     "text": [
      "#0:\n",
      "  train rmse score: 0.2580074749747711\n",
      "  test  rmse score: 0.3909055421161778\n",
      "#1:\n",
      "  train rmse score: 0.26826825593583964\n",
      "  test  rmse score: 0.3675109327819864\n",
      "#2:\n",
      "  train rmse score: 0.2532608762295736\n",
      "  test  rmse score: 0.41047881448724877\n",
      "#3:\n",
      "  train rmse score: 0.2658611345367029\n",
      "  test  rmse score: 0.2860694221438465\n",
      "#4:\n",
      "  train rmse score: 0.25986947273033606\n",
      "  test  rmse score: 0.2695233888605164\n",
      "\n",
      "The 5-fold average rmse of KNeighborsRegressor(n=5):\n",
      " 0.34489762007795516\n"
     ]
    }
   ],
   "source": [
    "print(\n",
    "    \"\\nThe 5-fold average rmse of KNeighborsRegressor(n=5):\\n\", \n",
    "    model_5fold_test(KNeighborsRegressor(n_neighbors=5))\n",
    ")"
   ]
  },
  {
   "cell_type": "markdown",
   "metadata": {},
   "source": [
    "## 3. Multioutput Neural Network(Keras) Regression"
   ]
  },
  {
   "cell_type": "code",
   "execution_count": 51,
   "metadata": {},
   "outputs": [],
   "source": [
    "from keras.models import Sequential\n",
    "from keras.layers import Dense, Activation\n",
    "from keras.optimizers import Adam"
   ]
  },
  {
   "cell_type": "code",
   "execution_count": 79,
   "metadata": {},
   "outputs": [],
   "source": [
    "# setting model\n",
    "def set_model():\n",
    "    opt = Adam(lr=0.05)\n",
    "    model = Sequential()\n",
    "    model.add(Dense(12, input_dim=12, activation='sigmoid'))\n",
    "    model.add(Dense(6, activation='sigmoid'))\n",
    "    model.add(Dense(2, activation=\"linear\"))\n",
    "    model.compile(optimizer=opt,\n",
    "                  loss='mean_squared_error',\n",
    "                  metrics=['mae'])\n",
    "    return model"
   ]
  },
  {
   "cell_type": "code",
   "execution_count": 80,
   "metadata": {},
   "outputs": [
    {
     "name": "stdout",
     "output_type": "stream",
     "text": [
      "#0:\n",
      "  train rmse score: 0.17392523346625524\n",
      "  test  rmse score: 0.21819484252338334\n",
      "#1:\n",
      "  train rmse score: 0.14084997647174696\n",
      "  test  rmse score: 0.1887957577859656\n",
      "#2:\n",
      "  train rmse score: 0.12506507396093536\n",
      "  test  rmse score: 0.1623844643015579\n",
      "#3:\n",
      "  train rmse score: 0.16898429128558065\n",
      "  test  rmse score: 0.2804926296407259\n",
      "#4:\n",
      "  train rmse score: 0.16179222694589593\n",
      "  test  rmse score: 0.19009694364427993\n"
     ]
    }
   ],
   "source": [
    "# 5-fold cross-validation test\n",
    "sss = StratifiedShuffleSplit(n_splits=5, test_size=0.2)\n",
    "mse_test_scores = []\n",
    "\n",
    "for i, (train_index, test_index) in enumerate(sss.split(_X_vals, _Y_vals)):\n",
    "    x_train, x_test = _X_vals[train_index], _X_vals[test_index]\n",
    "    y_train, y_test = _Y_vals[train_index], _Y_vals[test_index]\n",
    "\n",
    "    model = set_model()\n",
    "    model.fit(\n",
    "        x_train, y_train, \n",
    "        validation_data=(x_test, y_test),\n",
    "        epochs=200,\n",
    "        verbose=0\n",
    "    )\n",
    "    y_predict = model.predict(x_test)\n",
    "    test_score = rmse(y_test, y_predict)\n",
    "    mse_test_scores.append(test_score)\n",
    "\n",
    "    print(f\"#{i}:\")\n",
    "    print(\"  train rmse score:\", rmse(y_train, model.predict(x_train)))\n",
    "    print(\"  test  rmse score:\", test_score)"
   ]
  },
  {
   "cell_type": "code",
   "execution_count": 82,
   "metadata": {},
   "outputs": [
    {
     "name": "stdout",
     "output_type": "stream",
     "text": [
      "\n",
      "The 5-fold average rmse of NeuralNetwork:\n",
      " 0.20799292757918253\n"
     ]
    }
   ],
   "source": [
    "print(\n",
    "    \"\\nThe 5-fold average rmse of NeuralNetwork:\\n\", \n",
    "    np.mean(mse_test_scores)\n",
    ")"
   ]
  }
 ],
 "metadata": {
  "kernelspec": {
   "display_name": "Python 3",
   "language": "python",
   "name": "python3"
  },
  "language_info": {
   "codemirror_mode": {
    "name": "ipython",
    "version": 3
   },
   "file_extension": ".py",
   "mimetype": "text/x-python",
   "name": "python",
   "nbconvert_exporter": "python",
   "pygments_lexer": "ipython3",
   "version": "3.6.8"
  }
 },
 "nbformat": 4,
 "nbformat_minor": 2
}
